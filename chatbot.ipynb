{
 "cells": [
  {
   "cell_type": "code",
   "execution_count": 3,
   "id": "4c68b518",
   "metadata": {},
   "outputs": [],
   "source": [
    "from tkinter import *\n",
    "from tkinter import scrolledtext\n",
    "from test_seq2seq import ChatBot\n",
    "from tkinter import LEFT,RIGHT,TOP,BOTTOM\n",
    "import numpy as np\n"
   ]
  },
  {
   "cell_type": "code",
   "execution_count": 4,
   "id": "ce73ca3a",
   "metadata": {},
   "outputs": [],
   "source": [
    "#Calling Class for chat prediction\n",
    "ob = ChatBot()\n",
    "\n",
    "#main display chat window \n",
    "window = Tk()\n",
    "window.title(\"UNT chatbot\")\n",
    "window.geometry('550x450')\n",
    "\n",
    "#top frame to display the chat history\n",
    "frame1 = Frame(window, class_=\"TOP\")\n",
    "frame1.pack(expand=True, fill=BOTH)\n",
    "\n",
    "#text area with scroll bar\n",
    "textarea = Text(frame1, state=DISABLED)\n",
    "vsb = Scrollbar(frame1, takefocus=\n",
    "                0, command=textarea.yview)\n",
    "vsb.pack(side=RIGHT, fill=Y)\n",
    "textarea.pack(side=RIGHT, expand=YES, fill=BOTH)\n",
    "textarea[\"yscrollcommand\"]=vsb.set\n",
    "\n",
    "#bottom frame to display current user question text box \n",
    "frame2 = Frame(window, class_=\"Chatbox_Entry\")\n",
    "frame2.pack(fill=X, anchor=N)\n",
    "\n",
    "lbl = Label(frame2, text=\"User : \")\n",
    "lbl.pack(side=LEFT)"
   ]
  },
  {
   "cell_type": "code",
   "execution_count": 5,
   "id": "bb99bee0",
   "metadata": {},
   "outputs": [],
   "source": [
    "def bind_entry(self, event, handler):\n",
    "    txt.bind(event, handler)\n",
    "\n",
    "def clicked(event): \n",
    "    #to automate the scrollbar action downward according to the text\n",
    "    relative_position_of_scrollbar = vsb.get()[1]\n",
    "    res =txt.get() \n",
    "    #function call\n",
    "    ans = ob.test_run(res)\n",
    "    pr=\"User : \" + res + \"\\n\" + \"Bruce : \" + ans + \"\\n\"\n",
    "    #the state of the textarea is normalto write the text to the top area in the interface\n",
    "    textarea.config(state=NORMAL)\n",
    "    textarea.insert(END,pr)\n",
    "    #it is again disabled to avoid the user modifications in the history\n",
    "    textarea.config(state=DISABLED)\n",
    "    txt.delete(0,END)\n",
    "    if relative_position_of_scrollbar == 1:\n",
    "        textarea.yview_moveto(1)\n",
    "    txt.focus()"
   ]
  },
  {
   "cell_type": "code",
   "execution_count": null,
   "id": "a67c3a49",
   "metadata": {},
   "outputs": [],
   "source": [
    "txt = Entry(frame2,width=70)\n",
    "txt.pack(side=LEFT,expand=YES, fill=BOTH)\n",
    "txt.focus()\n",
    "txt.bind(\"<Return>\", clicked)\n",
    "\n",
    "window.mainloop()"
   ]
  },
  {
   "cell_type": "code",
   "execution_count": null,
   "id": "b1e52edb",
   "metadata": {},
   "outputs": [],
   "source": []
  }
 ],
 "metadata": {
  "kernelspec": {
   "display_name": "nlp",
   "language": "python",
   "name": "nlp"
  },
  "language_info": {
   "codemirror_mode": {
    "name": "ipython",
    "version": 3
   },
   "file_extension": ".py",
   "mimetype": "text/x-python",
   "name": "python",
   "nbconvert_exporter": "python",
   "pygments_lexer": "ipython3",
   "version": "3.8.10"
  }
 },
 "nbformat": 4,
 "nbformat_minor": 5
}
